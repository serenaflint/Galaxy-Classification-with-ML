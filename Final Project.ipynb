{
 "cells": [
  {
   "cell_type": "markdown",
   "metadata": {},
   "source": [
    "# Final Project - PHY 256\n",
    "\n",
    "### Serena Flint"
   ]
  },
  {
   "cell_type": "markdown",
   "metadata": {},
   "source": [
    "### Data Preparation"
   ]
  },
  {
   "cell_type": "markdown",
   "metadata": {},
   "source": [
    "##### Reading Data from .CSV Files"
   ]
  },
  {
   "cell_type": "code",
   "execution_count": 44,
   "metadata": {},
   "outputs": [
    {
     "name": "stdout",
     "output_type": "stream",
     "text": [
      "Total number of rows: 61579\n",
      "\n",
      "Array Formatting:\n",
      "['GalaxyID', 'Class1.1', 'Class1.2', 'Class1.3', 'Class2.1', 'Class2.2', 'Class3.1', 'Class3.2', 'Class4.1', 'Class4.2', 'Class5.1', 'Class5.2', 'Class5.3', 'Class5.4', 'Class6.1', 'Class6.2', 'Class7.1', 'Class7.2', 'Class7.3', 'Class8.1', 'Class8.2', 'Class8.3', 'Class8.4', 'Class8.5', 'Class8.6', 'Class8.7', 'Class9.1', 'Class9.2', 'Class9.3', 'Class10.1', 'Class10.2', 'Class10.3', 'Class11.1', 'Class11.2', 'Class11.3', 'Class11.4', 'Class11.5', 'Class11.6']\n"
     ]
    }
   ],
   "source": [
    "import csv\n",
    "\n",
    "#CSV file name to be read in\n",
    "file = \"TrainData.csv\"\n",
    "\n",
    "fields = []\n",
    "rows = []\n",
    "\n",
    "#adds file data to rows[]\n",
    "with open(file, 'r') as csvfile:\n",
    "    csvreader = csv.reader(csvfile)  \n",
    "    for row in csvreader:\n",
    "        rows.append(row)\n",
    "        \n",
    "    #this is the limiting number of training cases from known galaxy classifications\n",
    "    print(\"Total number of rows:\", csvreader.line_num)\n",
    "\n",
    "print(\"\\nArray Formatting:\")\n",
    "print(rows[0])\n",
    "\n",
    "csvfile.close()"
   ]
  },
  {
   "cell_type": "markdown",
   "metadata": {},
   "source": [
    "##### Binning\n"
   ]
  },
  {
   "cell_type": "code",
   "execution_count": 46,
   "metadata": {},
   "outputs": [
    {
     "name": "stdout",
     "output_type": "stream",
     "text": [
      "Number Elliptical: 429\n",
      "Number Spiral A: 109\n",
      "Number Spiral B: 462\n"
     ]
    }
   ],
   "source": [
    "#desired output path\n",
    "output = open(\"bins.txt\", \"w\")\n",
    "\n",
    "line_arr1 = []\n",
    "line_arr2 = []\n",
    "line_arr3 = []\n",
    "\n",
    "\n",
    "\n",
    "#possible bins\n",
    "bin1A = [] #elliptical\n",
    "bin1B = [] #spiral\n",
    "bin2A = [] #bar/no bar\n",
    "bin2B = [] #bar/no bar\n",
    "\n",
    "for i in range (1, 1001):\n",
    "    if rows[i][1] > rows[i][2]:\n",
    "        bin1A.append(rows[i][0])\n",
    "    else:\n",
    "        if rows[i][4] > rows[i][5]:\n",
    "            bin2A.append(rows[i][0])\n",
    "        else:\n",
    "            bin2B.append(rows[i][0])\n",
    "\n",
    "print(\"Number Elliptical:\", len(bin1A))\n",
    "print(\"Number Spiral A:\", len(bin2A))\n",
    "print(\"Number Spiral B:\", len(bin2B))\n",
    "\n",
    "#for i in range (1, 1000):\n",
    "  #  line_str = rows[i][0] + \",\" + rows[i][1] + \",\" + rows[i][2] + '\\n'\n",
    "  #  line_arr.append(line_str)\n",
    "    #print(line_str) #sanity check\n",
    "    \n",
    "#writes formatted data to desired output path\n",
    "#output.writelines(line_arr)\n",
    "\n",
    "output.close()"
   ]
  },
  {
   "cell_type": "markdown",
   "metadata": {},
   "source": [
    "### Algorithm & Clustering"
   ]
  },
  {
   "cell_type": "markdown",
   "metadata": {},
   "source": [
    "##### Imports"
   ]
  },
  {
   "cell_type": "code",
   "execution_count": 40,
   "metadata": {},
   "outputs": [
    {
     "ename": "ModuleNotFoundError",
     "evalue": "No module named 'cv2'",
     "output_type": "error",
     "traceback": [
      "\u001b[1;31m---------------------------------------------------------------------------\u001b[0m",
      "\u001b[1;31mModuleNotFoundError\u001b[0m                       Traceback (most recent call last)",
      "\u001b[1;32m<ipython-input-40-d4020b851773>\u001b[0m in \u001b[0;36m<module>\u001b[1;34m\u001b[0m\n\u001b[1;32m----> 1\u001b[1;33m \u001b[1;32mimport\u001b[0m \u001b[0mcv2\u001b[0m\u001b[1;33m\u001b[0m\u001b[1;33m\u001b[0m\u001b[0m\n\u001b[0m\u001b[0;32m      2\u001b[0m \u001b[1;32mimport\u001b[0m \u001b[0mos\u001b[0m\u001b[1;33m\u001b[0m\u001b[1;33m\u001b[0m\u001b[0m\n\u001b[0;32m      3\u001b[0m \u001b[1;32mimport\u001b[0m \u001b[0mnumpy\u001b[0m \u001b[1;32mas\u001b[0m \u001b[0mnp\u001b[0m\u001b[1;33m\u001b[0m\u001b[1;33m\u001b[0m\u001b[0m\n\u001b[0;32m      4\u001b[0m \u001b[1;32mfrom\u001b[0m \u001b[0mrandom\u001b[0m \u001b[1;32mimport\u001b[0m \u001b[0mshuffle\u001b[0m\u001b[1;33m\u001b[0m\u001b[1;33m\u001b[0m\u001b[0m\n\u001b[0;32m      5\u001b[0m \u001b[1;32mfrom\u001b[0m \u001b[0mtqdm\u001b[0m \u001b[1;32mimport\u001b[0m \u001b[0mtqdm\u001b[0m\u001b[1;33m\u001b[0m\u001b[1;33m\u001b[0m\u001b[0m\n",
      "\u001b[1;31mModuleNotFoundError\u001b[0m: No module named 'cv2'"
     ]
    }
   ],
   "source": [
    "import cv2 \n",
    "import os \n",
    "import numpy as np \n",
    "from random import shuffle \n",
    "from tqdm import tqdm \n",
    "\n",
    "import tflearn \n",
    "from tflearn.layers.conv import conv_2d, max_pool_2d \n",
    "from tflearn.layers.core import input_data, dropout, fully_connected \n",
    "from tflearn.layers.estimator import regression \n",
    "  \n",
    "import tensorflow as tf \n",
    "\n",
    "import matplotlib.pyplot as plt "
   ]
  }
 ],
 "metadata": {
  "kernelspec": {
   "display_name": "Python 3",
   "language": "python",
   "name": "python3"
  },
  "language_info": {
   "codemirror_mode": {
    "name": "ipython",
    "version": 3
   },
   "file_extension": ".py",
   "mimetype": "text/x-python",
   "name": "python",
   "nbconvert_exporter": "python",
   "pygments_lexer": "ipython3",
   "version": "3.7.1"
  }
 },
 "nbformat": 4,
 "nbformat_minor": 2
}
