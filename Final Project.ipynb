{
 "cells": [
  {
   "cell_type": "markdown",
   "metadata": {},
   "source": [
    "# Final Project - PHY 256\n",
    "\n",
    "### Serena Flint"
   ]
  },
  {
   "cell_type": "markdown",
   "metadata": {},
   "source": [
    "### Data Preparation"
   ]
  },
  {
   "cell_type": "markdown",
   "metadata": {},
   "source": [
    "##### Imports"
   ]
  },
  {
   "cell_type": "code",
   "execution_count": 57,
   "metadata": {},
   "outputs": [],
   "source": [
    "import csv\n",
    "import os "
   ]
  },
  {
   "cell_type": "markdown",
   "metadata": {},
   "source": [
    "##### Reading Data from .CSV Files"
   ]
  },
  {
   "cell_type": "code",
   "execution_count": 58,
   "metadata": {},
   "outputs": [
    {
     "name": "stdout",
     "output_type": "stream",
     "text": [
      "Total number of rows: 61579\n",
      "\n",
      "Array Formatting:\n",
      "['GalaxyID', 'Class1.1', 'Class1.2', 'Class1.3', 'Class2.1', 'Class2.2', 'Class3.1', 'Class3.2', 'Class4.1', 'Class4.2', 'Class5.1', 'Class5.2', 'Class5.3', 'Class5.4', 'Class6.1', 'Class6.2', 'Class7.1', 'Class7.2', 'Class7.3', 'Class8.1', 'Class8.2', 'Class8.3', 'Class8.4', 'Class8.5', 'Class8.6', 'Class8.7', 'Class9.1', 'Class9.2', 'Class9.3', 'Class10.1', 'Class10.2', 'Class10.3', 'Class11.1', 'Class11.2', 'Class11.3', 'Class11.4', 'Class11.5', 'Class11.6']\n"
     ]
    }
   ],
   "source": [
    "#CSV file name to be read in\n",
    "file = \"TrainData.csv\"\n",
    "\n",
    "fields = []\n",
    "rows = []\n",
    "\n",
    "#adds file data to rows[]\n",
    "with open(file, 'r') as csvfile:\n",
    "    csvreader = csv.reader(csvfile)  \n",
    "    for row in csvreader:\n",
    "        rows.append(row)\n",
    "        \n",
    "    #this is the limiting number of training cases from known galaxy classifications\n",
    "    print(\"Total number of rows:\", csvreader.line_num)\n",
    "\n",
    "print(\"\\nArray Formatting:\")\n",
    "print(rows[0])\n",
    "\n",
    "csvfile.close()"
   ]
  },
  {
   "cell_type": "markdown",
   "metadata": {},
   "source": [
    "##### Binning\n"
   ]
  },
  {
   "cell_type": "code",
   "execution_count": 59,
   "metadata": {},
   "outputs": [
    {
     "name": "stdout",
     "output_type": "stream",
     "text": [
      "Number Elliptical: 2200\n",
      "Number Spiral A: 517\n",
      "Number Spiral B: 2283\n",
      "\n",
      "Total Training Size: 5000\n"
     ]
    }
   ],
   "source": [
    "#possible bins\n",
    "bin1A = [] #elliptical\n",
    "bin1B = [] #spiral\n",
    "bin2A = [] #bar/no bar\n",
    "bin2B = [] #bar/no bar\n",
    "\n",
    "for i in range (1, 5001):\n",
    "    if rows[i][1] > rows[i][2]:\n",
    "        bin1A.append(rows[i][0])\n",
    "    else:\n",
    "        if rows[i][4] > rows[i][5]:\n",
    "            bin2A.append(rows[i][0])\n",
    "        else:\n",
    "            bin2B.append(rows[i][0])\n",
    "\n",
    "print(\"Number Elliptical:\", len(bin1A))\n",
    "print(\"Number Spiral A:\", len(bin2A))\n",
    "print(\"Number Spiral B:\", len(bin2B))\n",
    "\n",
    "print(\"\\nTotal Training Size:\", (len(bin1A)+len(bin2A)+len(bin2B)))"
   ]
  },
  {
   "cell_type": "markdown",
   "metadata": {},
   "source": [
    "##### Moving Files to Correct Bins"
   ]
  },
  {
   "cell_type": "code",
   "execution_count": 62,
   "metadata": {},
   "outputs": [],
   "source": [
    "#new path headers\n",
    "path1A = \"bin1A/\"\n",
    "path2A = \"bin2A/\"\n",
    "path2B = \"bin2B/\"\n",
    "\n",
    "#moving files from the dataset into their proper bins\n",
    "for i in range(0,len(bin1A)):\n",
    "    file1A = bin1A[i]+\".jpg\"\n",
    "    os.rename(\"dataset/photos/\"+file1A, path1A+file1A)\n",
    "\n",
    "for i in range(0,len(bin2A)):\n",
    "    file2A = bin2A[i]+\".jpg\"\n",
    "    os.rename(\"dataset/photos/\"+file2A, path2A+file2A)\n",
    "    \n",
    "for i in range(0,len(bin2B)):\n",
    "    file2B = bin2B[i]+\".jpg\"\n",
    "    os.rename(\"dataset/photos/\"+file2B, path2B+file2B)\n"
   ]
  },
  {
   "cell_type": "markdown",
   "metadata": {},
   "source": [
    "### Algorithm & Clustering"
   ]
  },
  {
   "cell_type": "markdown",
   "metadata": {},
   "source": [
    "##### Imports"
   ]
  },
  {
   "cell_type": "code",
   "execution_count": null,
   "metadata": {},
   "outputs": [],
   "source": []
  }
 ],
 "metadata": {
  "kernelspec": {
   "display_name": "Python 3",
   "language": "python",
   "name": "python3"
  },
  "language_info": {
   "codemirror_mode": {
    "name": "ipython",
    "version": 3
   },
   "file_extension": ".py",
   "mimetype": "text/x-python",
   "name": "python",
   "nbconvert_exporter": "python",
   "pygments_lexer": "ipython3",
   "version": "3.7.1"
  }
 },
 "nbformat": 4,
 "nbformat_minor": 2
}
